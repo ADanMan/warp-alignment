{
 "cells": [
  {
   "cell_type": "markdown",
   "metadata": {},
   "source": [
    "# Анализ результатов WARP"
   ]
  },
  {
   "cell_type": "code",
   "execution_count": null,
   "metadata": {},
   "outputs": [],
   "source": [
    "import sys\n",
    "sys.path.append('..')\n",
    "\n",
    "from src.training_evaluation import evaluate_models\n",
    "from src.hyperparameter_experiments import run_hyperparameter_experiments\n",
    "import matplotlib.pyplot as plt\n",
    "import seaborn as sns"
   ]
  },
  {
   "cell_type": "code",
   "execution_count": null,
   "metadata": {},
   "outputs": [],
   "source": [
    "# Оценка моделей\n",
    "results = evaluate_models()\n",
    "print('Результаты оценки:')\n",
    "print(f'Средняя награда WARP: {results[\"warp_reward\"]:.4f}')\n",
    "print(f'Средняя награда SFT: {results[\"sft_reward\"]:.4f}')\n",
    "print(f'KL-дивергенция: {results[\"kl_divergence\"]:.4f}')"
   ]
  },
  {
   "cell_type": "code",
   "execution_count": null,
   "metadata": {},
   "outputs": [],
   "source": [
    "# Визуализация результатов экспериментов с гиперпараметрами\n",
    "hyperparameter_results = run_hyperparameter_experiments()\n",
    "\n",
    "param_name = hyperparameter_results[0]['param_name']\n",
    "param_values = [r['param_value'] for r in hyperparameter_results]\n",
    "rewards = [r['reward'] for r in hyperparameter_results]\n",
    "kl_divs = [r['kl_div'] for r in hyperparameter_results]\n",
    "\n",
    "plt.figure(figsize=(12, 6))\n",
    "plt.plot(param_values, rewards, 'bo-', label='Награда')\n",
    "plt.plot(param_values, kl_divs, 'ro-', label='KL-дивергенция')\n",
    "plt.xlabel(param_name)\n",
    "plt.ylabel('Значение метрики')\n",
    "plt.legend()\n",
    "plt.title(f'Влияние {param_name} на награду и KL-дивергенцию')\n",
    "plt.show()"
   ]
  },
  {
   "cell_type": "markdown",
   "metadata": {},
   "source": [
    "## Анализ результатов\n",
    "\n",
    "Здесь вы можете добавить свой анализ полученных результатов, например:\n",
    "\n",
    "1. Сравнение производительности WARP и SFT моделей\n",
    "2. Влияние выбранного гиперпараметра на результаты\n",
    "3. Обсуждение компромисса между наградой и KL-дивергенцией\n",
    "4. Предложения по дальнейшим экспериментам или улучшениям метода"
   ]
  }
 ],
 "metadata": {
  "kernelspec": {
   "display_name": "Python 3",
   "language": "python",
   "name": "python3"
  },
  "language_info": {
   "codemirror_mode": {
    "name": "ipython",
    "version": 3
   },
   "file_extension": ".py",
   "mimetype": "text/x-python",
   "name": "python",
   "nbconvert_exporter": "python",
   "pygments_lexer": "ipython3",
   "version": "3.8.0"
  }
 },
 "nbformat": 4,
 "nbformat_minor": 4
}
