{
 "cells": [
  {
   "cell_type": "markdown",
   "metadata": {},
   "source": [
    "# Исследование данных IMDB"
   ]
  },
  {
   "cell_type": "code",
   "execution_count": null,
   "metadata": {},
   "outputs": [],
   "source": [
    "import sys\n",
    "sys.path.append('..')\n",
    "\n",
    "from src.data_preparation import load_imdb_dataset, create_pairs\n",
    "import matplotlib.pyplot as plt\n",
    "import seaborn as sns"
   ]
  },
  {
   "cell_type": "code",
   "execution_count": null,
   "metadata": {},
   "outputs": [],
   "source": [
    "# Загрузка датасета\n",
    "dataset = load_imdb_dataset()"
   ]
  },
  {
   "cell_type": "code",
   "execution_count": null,
   "metadata": {},
   "outputs": [],
   "source": [
    "# Анализ распределения длин отзывов\n",
    "train_lengths = [len(text.split()) for text in dataset['train']['text']]\n",
    "plt.figure(figsize=(10, 6))\n",
    "sns.histplot(train_lengths, bins=50)\n",
    "plt.title('Распределение длин отзывов в обучающей выборке')\n",
    "plt.xlabel('Количество слов')\n",
    "plt.ylabel('Частота')\n",
    "plt.show()"
   ]
  },
  {
   "cell_type": "code",
   "execution_count": null,
   "metadata": {},
   "outputs": [],
   "source": [
    "# Создание пар и анализ\n",
    "train_pairs = create_pairs(dataset['train'])\n",
    "print(f'Количество пар для обучения: {len(train_pairs)}')\n",
    "print('Пример пары:')\n",
    "print('Положительный отзыв:', train_pairs[0][0][:100], '...')\n",
    "print('Отрицательный отзыв:', train_pairs[0][1][:100], '...')"
   ]
  }
 ],
 "metadata": {
  "kernelspec": {
   "display_name": "Python 3",
   "language": "python",
   "name": "python3"
  },
  "language_info": {
   "codemirror_mode": {
    "name": "ipython",
    "version": 3
   },
   "file_extension": ".py",
   "mimetype": "text/x-python",
   "name": "python",
   "nbconvert_exporter": "python",
   "pygments_lexer": "ipython3",
   "version": "3.8.0"
  }
 },
 "nbformat": 4,
 "nbformat_minor": 4
}
