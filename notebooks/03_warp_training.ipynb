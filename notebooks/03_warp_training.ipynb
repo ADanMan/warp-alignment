{
 "cells": [
  {
   "cell_type": "markdown",
   "metadata": {},
   "source": [
    "# Обучение с использованием WARP"
   ]
  },
  {
   "cell_type": "code",
   "execution_count": null,
   "metadata": {},
   "source": [
    "import sys\n",
    "sys.path.append('..')\n",
    "\n",
    "from src.warp_implementation import train_warp\n",
    "from src.training_evaluation import evaluate_models\n",
    "from transformers import GPT2LMHeadModel, GPT2Tokenizer\n",
    "import torch"
   ]
  },
  {
   "cell_type": "code",
   "execution_count": null,
   "metadata": {},
   "source": [
    "# Обучение модели с использованием WARP\n",
    "train_warp()"
   ]
  },
  {
   "cell_type": "code",
   "execution_count": null,
   "metadata": {},
   "source": [
    "# Оценка результатов\n",
    "results = evaluate_models()\n",
    "print(\"Результаты оценки:\")\n",
    "print(f\"Средняя награда WARP: {results['warp_reward']:.4f}\")\n",
    "print(f\"Средняя награда SFT: {results['sft_reward']:.4f}\")\n",
    "print(f\"KL-дивергенция: {results['kl_divergence']:.4f}\")"
   ]
  },
  {
   "cell_type": "code",
   "execution_count": null,
   "metadata": {},
   "source": [
    "# Пример генерации текста с использованием обученной модели\n",
    "model = GPT2LMHeadModel.from_pretrained(\"results/models/warp_model\")\n",
    "tokenizer = GPT2Tokenizer.from_pretrained(\"gpt2\")\n",
    "\n",
    "prompts = [\n",
    "    \"This movie was\",\n",
    "    \"I really enjoyed\",\n",
    "    \"The acting was\"\n",
    "]\n",
    "\n",
    "for prompt in prompts:\n",
    "    inputs = tokenizer(prompt, return_tensors=\"pt\")\n",
    "    outputs = model.generate(**inputs, max_length=50, num_return_sequences=1, no_repeat_ngram_size=2)\n",
    "    generated_text = tokenizer.decode(outputs[0], skip_special_tokens=True)\n",
    "    print(f\"Промпт: {prompt}\")\n",
    "    print(f\"Сгенерированный текст: {generated_text}\\n\")"
   ]
  }
 ],
 "metadata": {
  "kernelspec": {
   "display_name": "Python 3",
   "language": "python",
   "name": "python3"
  },
  "language_info": {
   "codemirror_mode": {
    "name": "ipython",
    "version": 3
   },
   "file_extension": ".py",
   "mimetype": "text/x-python",
   "name": "python",
   "nbconvert_exporter": "python",
   "pygments_lexer": "ipython3",
   "version": "3.8.0"
  }
 },
 "nbformat": 4,
 "nbformat_minor": 4
}
